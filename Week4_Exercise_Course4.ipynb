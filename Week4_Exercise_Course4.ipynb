{
  "nbformat": 4,
  "nbformat_minor": 0,
  "metadata": {
    "colab": {
      "name": "Week4_Exercise_Course4.ipynb",
      "provenance": [],
      "collapsed_sections": [],
      "authorship_tag": "ABX9TyPRLdzAxU+gr7fr+PJF4AK8",
      "include_colab_link": true
    },
    "kernelspec": {
      "name": "python3",
      "display_name": "Python 3"
    }
  },
  "cells": [
    {
      "cell_type": "markdown",
      "metadata": {
        "id": "view-in-github",
        "colab_type": "text"
      },
      "source": [
        "<a href=\"https://colab.research.google.com/github/cvaranasi1/NeuralNetworks_in_TensorFlow/blob/master/Week4_Exercise_Course4.ipynb\" target=\"_parent\"><img src=\"https://colab.research.google.com/assets/colab-badge.svg\" alt=\"Open In Colab\"/></a>"
      ]
    },
    {
      "cell_type": "code",
      "metadata": {
        "id": "ALG_7Pw6r3ed"
      },
      "source": [
        "import tensorflow as tf\n",
        "import numpy as np\n",
        "import csv\n",
        "import matplotlib.pyplot as plt\n",
        "\n",
        "from tensorflow import keras\n",
        "from tensorflow.keras.models import Sequential\n",
        "from tensorflow.keras.layers import Dense,Conv1D,LSTM, Bidirectional"
      ],
      "execution_count": 270,
      "outputs": []
    },
    {
      "cell_type": "code",
      "metadata": {
        "id": "HKp4p75ysl9r",
        "outputId": "71ef85e1-b767-4318-9a72-d457d1fc2027",
        "colab": {
          "base_uri": "https://localhost:8080/",
          "height": 204
        }
      },
      "source": [
        "!wget --no-check-certificate \\\n",
        "    https://raw.githubusercontent.com/jbrownlee/Datasets/master/daily-min-temperatures.csv \\\n",
        "    -O /tmp/daily-min-temperatures.csv\n"
      ],
      "execution_count": 271,
      "outputs": [
        {
          "output_type": "stream",
          "text": [
            "--2020-10-05 04:02:56--  https://raw.githubusercontent.com/jbrownlee/Datasets/master/daily-min-temperatures.csv\n",
            "Resolving raw.githubusercontent.com (raw.githubusercontent.com)... 151.101.0.133, 151.101.64.133, 151.101.128.133, ...\n",
            "Connecting to raw.githubusercontent.com (raw.githubusercontent.com)|151.101.0.133|:443... connected.\n",
            "HTTP request sent, awaiting response... 200 OK\n",
            "Length: 67921 (66K) [text/plain]\n",
            "Saving to: ‘/tmp/daily-min-temperatures.csv’\n",
            "\n",
            "\r          /tmp/dail   0%[                    ]       0  --.-KB/s               \r/tmp/daily-min-temp 100%[===================>]  66.33K  --.-KB/s    in 0.03s   \n",
            "\n",
            "2020-10-05 04:02:56 (2.35 MB/s) - ‘/tmp/daily-min-temperatures.csv’ saved [67921/67921]\n",
            "\n"
          ],
          "name": "stdout"
        }
      ]
    },
    {
      "cell_type": "code",
      "metadata": {
        "id": "-bWtsaAnyU44",
        "outputId": "97d67c30-d82f-4317-b911-49a6bb4ac038",
        "colab": {
          "base_uri": "https://localhost:8080/",
          "height": 299
        }
      },
      "source": [
        "series=[]\n",
        "with open('/tmp/daily-min-temperatures.csv','r') as f:\n",
        "  reader = csv.reader(f)\n",
        "  next(reader)\n",
        "  for row in reader:\n",
        "    series.append(float(row[1]))\n",
        "  series=np.array(series)\n",
        "  time = np.arange(len(series))\n",
        "  print(series.shape)\n",
        "  print(time.shape)\n",
        "  plt.plot(time,series)\n",
        " "
      ],
      "execution_count": 273,
      "outputs": [
        {
          "output_type": "stream",
          "text": [
            "(3650,)\n",
            "(3650,)\n"
          ],
          "name": "stdout"
        },
        {
          "output_type": "display_data",
          "data": {
            "image/png": "[encoded data removed]",
            "text/plain": [
              "<Figure size 432x288 with 1 Axes>"
            ]
          },
          "metadata": {
            "tags": [],
            "needs_background": "light"
          }
        }
      ]
    },
    {
      "cell_type": "code",
      "metadata": {
        "id": "DzcqxeWdILS4"
      },
      "source": [
        "split_time = 3000\n",
        "train_time=time[:split_time]\n",
        "x_train = series[:split_time]\n",
        "valid_time=time[split_time:]\n",
        "x_valid=series[split_time:]\n",
        "window_size=20\n",
        "batch_size=64\n",
        "shuffle_buffer_size=1000\n",
        "                "
      ],
      "execution_count": 281,
      "outputs": []
    },
    {
      "cell_type": "code",
      "metadata": {
        "id": "wruk8Xc4I5-9"
      },
      "source": [
        "def windowed_dataset(series,batch_size,window_size,shuffle_buffer_size):\n",
        "  series = tf.expand_dims(series,axis=[-1])\n",
        "  ds = tf.data.Dataset.from_tensor_slices(series)\n",
        "  ds = ds.window(window_size+1,shift=1,drop_remainder=True)\n",
        "  ds = ds.flat_map(lambda window: window.batch(window_size+1))\n",
        "  ds = ds.shuffle(shuffle_buffer_size)\n",
        "  ds = ds.map(lambda window: (window[:-1], window[-1:]))\n",
        "  return ds.batch(batch_size).prefetch(1)\n"
      ],
      "execution_count": 282,
      "outputs": []
    },
    {
      "cell_type": "code",
      "metadata": {
        "id": "ZSur7-MhLG6J"
      },
      "source": [
        "train_set = windowed_dataset(series,batch_size,window_size,shuffle_buffer_size)"
      ],
      "execution_count": 283,
      "outputs": []
    },
    {
      "cell_type": "code",
      "metadata": {
        "id": "KJV21l3qc4LM",
        "outputId": "863a6d8c-0073-4d1d-8a17-969b6fe4eee2",
        "colab": {
          "base_uri": "https://localhost:8080/",
          "height": 1000
        }
      },
      "source": [
        "model = Sequential( [Conv1D(filters=64, kernel_size=5,\n",
        "                      strides=1, padding=\"causal\",\n",
        "                      activation=\"relu\",\n",
        "                      input_shape=[None, 1]),\n",
        "  Bidirectional(LSTM(64, return_sequences=True)),\n",
        "  LSTM(64, return_sequences=True),\n",
        "  Dense(40, activation=\"relu\"),\n",
        "  Dense(20, activation=\"relu\"),\n",
        "  Dense(10, activation=\"relu\"),\n",
        "  Dense(1),\n",
        "  tf.keras.layers.Lambda(lambda x: x * 400)])\n",
        "\n",
        "lr_schedule = tf.keras.callbacks.LearningRateScheduler(\n",
        "    lambda epoch: 1e-8 * 10**(epoch / 20))\n",
        "optimizer = tf.keras.optimizers.SGD(lr=1e-6, momentum=0.9)\n",
        "model.compile(loss=tf.keras.losses.Huber(),\n",
        "              optimizer=optimizer,\n",
        "              metrics=[\"mae\"])\n",
        "history = model.fit(train_set, epochs=50, callbacks=[lr_schedule]),\n"
      ],
      "execution_count": 290,
      "outputs": [
        {
          "output_type": "stream",
          "text": [
            "Epoch 1/50\n",
            "57/57 [==============================] - 3s 54ms/step - loss: 50.4112 - mae: 50.9112\n",
            "Epoch 2/50\n",
            "57/57 [==============================] - 3s 56ms/step - loss: 46.9685 - mae: 47.4685\n",
            "Epoch 3/50\n",
            "57/57 [==============================] - 3s 54ms/step - loss: 43.0363 - mae: 43.5363\n",
            "Epoch 4/50\n",
            "57/57 [==============================] - 3s 54ms/step - loss: 38.6285 - mae: 39.1284\n",
            "Epoch 5/50\n",
            "57/57 [==============================] - 3s 55ms/step - loss: 33.6571 - mae: 34.1571\n",
            "Epoch 6/50\n",
            "57/57 [==============================] - 3s 54ms/step - loss: 28.0360 - mae: 28.5358\n",
            "Epoch 7/50\n",
            "57/57 [==============================] - 3s 55ms/step - loss: 21.8198 - mae: 22.3190\n",
            "Epoch 8/50\n",
            "57/57 [==============================] - 3s 55ms/step - loss: 15.3727 - mae: 15.8708\n",
            "Epoch 9/50\n",
            "57/57 [==============================] - 3s 55ms/step - loss: 9.3166 - mae: 9.8100\n",
            "Epoch 10/50\n",
            "57/57 [==============================] - 3s 55ms/step - loss: 4.7453 - mae: 5.2241\n",
            "Epoch 11/50\n",
            "57/57 [==============================] - 3s 56ms/step - loss: 3.1177 - mae: 3.5875\n",
            "Epoch 12/50\n",
            "57/57 [==============================] - 3s 55ms/step - loss: 2.8957 - mae: 3.3632\n",
            "Epoch 13/50\n",
            "57/57 [==============================] - 3s 57ms/step - loss: 2.8413 - mae: 3.3085\n",
            "Epoch 14/50\n",
            "57/57 [==============================] - 3s 57ms/step - loss: 2.8038 - mae: 3.2702\n",
            "Epoch 15/50\n",
            "57/57 [==============================] - 3s 54ms/step - loss: 2.7734 - mae: 3.2395\n",
            "Epoch 16/50\n",
            "57/57 [==============================] - 3s 55ms/step - loss: 2.7440 - mae: 3.2100\n",
            "Epoch 17/50\n",
            "57/57 [==============================] - 3s 55ms/step - loss: 2.7181 - mae: 3.1839\n",
            "Epoch 18/50\n",
            "57/57 [==============================] - 3s 55ms/step - loss: 2.6903 - mae: 3.1558\n",
            "Epoch 19/50\n",
            "57/57 [==============================] - 3s 55ms/step - loss: 2.6637 - mae: 3.1288\n",
            "Epoch 20/50\n",
            "57/57 [==============================] - 3s 55ms/step - loss: 2.6310 - mae: 3.0955\n",
            "Epoch 21/50\n",
            "57/57 [==============================] - 3s 56ms/step - loss: 2.5953 - mae: 3.0597\n",
            "Epoch 22/50\n",
            "57/57 [==============================] - 3s 55ms/step - loss: 2.5575 - mae: 3.0212\n",
            "Epoch 23/50\n",
            "57/57 [==============================] - 3s 55ms/step - loss: 2.5154 - mae: 2.9784\n",
            "Epoch 24/50\n",
            "57/57 [==============================] - 3s 55ms/step - loss: 2.4747 - mae: 2.9371\n",
            "Epoch 25/50\n",
            "57/57 [==============================] - 3s 55ms/step - loss: 2.4367 - mae: 2.8990\n",
            "Epoch 26/50\n",
            "57/57 [==============================] - 3s 56ms/step - loss: 2.4045 - mae: 2.8666\n",
            "Epoch 27/50\n",
            "57/57 [==============================] - 3s 55ms/step - loss: 2.3757 - mae: 2.8371\n",
            "Epoch 28/50\n",
            "57/57 [==============================] - 3s 55ms/step - loss: 2.3451 - mae: 2.8061\n",
            "Epoch 29/50\n",
            "57/57 [==============================] - 3s 55ms/step - loss: 2.3213 - mae: 2.7821\n",
            "Epoch 30/50\n",
            "57/57 [==============================] - 3s 56ms/step - loss: 2.2792 - mae: 2.7389\n",
            "Epoch 31/50\n",
            "57/57 [==============================] - 3s 57ms/step - loss: 2.2350 - mae: 2.6938\n",
            "Epoch 32/50\n",
            "57/57 [==============================] - 3s 56ms/step - loss: 2.2035 - mae: 2.6620\n",
            "Epoch 33/50\n",
            "57/57 [==============================] - 3s 56ms/step - loss: 2.1808 - mae: 2.6390\n",
            "Epoch 34/50\n",
            "57/57 [==============================] - 3s 56ms/step - loss: 2.1649 - mae: 2.6230\n",
            "Epoch 35/50\n",
            "57/57 [==============================] - 3s 56ms/step - loss: 2.1419 - mae: 2.5996\n",
            "Epoch 36/50\n",
            "57/57 [==============================] - 3s 56ms/step - loss: 2.1255 - mae: 2.5826\n",
            "Epoch 37/50\n",
            "57/57 [==============================] - 3s 56ms/step - loss: 2.1181 - mae: 2.5757\n",
            "Epoch 38/50\n",
            "57/57 [==============================] - 3s 55ms/step - loss: 2.1005 - mae: 2.5577\n",
            "Epoch 39/50\n",
            "57/57 [==============================] - 3s 56ms/step - loss: 2.0819 - mae: 2.5385\n",
            "Epoch 40/50\n",
            "57/57 [==============================] - 3s 57ms/step - loss: 2.0694 - mae: 2.5255\n",
            "Epoch 41/50\n",
            "57/57 [==============================] - 3s 56ms/step - loss: 2.0717 - mae: 2.5280\n",
            "Epoch 42/50\n",
            "57/57 [==============================] - 3s 56ms/step - loss: 2.0539 - mae: 2.5101\n",
            "Epoch 43/50\n",
            "57/57 [==============================] - 3s 56ms/step - loss: 2.0336 - mae: 2.4885\n",
            "Epoch 44/50\n",
            "57/57 [==============================] - 3s 55ms/step - loss: 2.0339 - mae: 2.4899\n",
            "Epoch 45/50\n",
            "57/57 [==============================] - 3s 55ms/step - loss: 2.0391 - mae: 2.4946\n",
            "Epoch 46/50\n",
            "57/57 [==============================] - 3s 56ms/step - loss: 1.9966 - mae: 2.4515\n",
            "Epoch 47/50\n",
            "57/57 [==============================] - 3s 56ms/step - loss: 2.0015 - mae: 2.4562\n",
            "Epoch 48/50\n",
            "57/57 [==============================] - 3s 56ms/step - loss: 2.0089 - mae: 2.4646\n",
            "Epoch 49/50\n",
            "57/57 [==============================] - 3s 56ms/step - loss: 1.9583 - mae: 2.4125\n",
            "Epoch 50/50\n",
            "57/57 [==============================] - 3s 56ms/step - loss: 1.9621 - mae: 2.4173\n"
          ],
          "name": "stdout"
        }
      ]
    }
  ]
}