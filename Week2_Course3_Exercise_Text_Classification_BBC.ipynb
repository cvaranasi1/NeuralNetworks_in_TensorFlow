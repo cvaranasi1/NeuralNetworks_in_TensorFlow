{
  "nbformat": 4,
  "nbformat_minor": 0,
  "metadata": {
    "colab": {
      "name": "Week2_Course3_Exercise_Text_Classification_BBC",
      "provenance": [],
      "authorship_tag": "ABX9TyNBei/e2sWJ9Bg3xNeVCEaf",
      "include_colab_link": true
    },
    "kernelspec": {
      "name": "python3",
      "display_name": "Python 3"
    }
  },
  "cells": [
    {
      "cell_type": "markdown",
      "metadata": {
        "id": "view-in-github",
        "colab_type": "text"
      },
      "source": [
        "<a href=\"https://colab.research.google.com/github/cvaranasi1/NeuralNetworks_in_TensorFlow/blob/master/Week2_Course3_Exercise_Text_Classification_BBC.ipynb\" target=\"_parent\"><img src=\"https://colab.research.google.com/assets/colab-badge.svg\" alt=\"Open In Colab\"/></a>"
      ]
    },
    {
      "cell_type": "code",
      "metadata": {
        "id": "GwzRd6IHNAfR",
        "colab_type": "code",
        "colab": {}
      },
      "source": [
        "import csv\n",
        "import tensorflow as tf\n",
        "from tensorflow import keras\n",
        "from tensorflow.keras.models import Sequential\n",
        "from tensorflow.keras.preprocessing.text import Tokenizer\n",
        "from tensorflow.keras.preprocessing.sequence import pad_sequences\n",
        "import numpy as np\n",
        "import matplotlib.pyplot as plt"
      ],
      "execution_count": 196,
      "outputs": []
    },
    {
      "cell_type": "code",
      "metadata": {
        "id": "tb0DHwszOQX4",
        "colab_type": "code",
        "colab": {
          "base_uri": "https://localhost:8080/",
          "height": 204
        },
        "outputId": "8b728727-6a90-4879-c8c7-d43059e7fc37"
      },
      "source": [
        "!wget --no-check-certificate \\\n",
        "    https://storage.googleapis.com/laurencemoroney-blog.appspot.com/bbc-text.csv \\\n",
        "    -O /tmp/bbc-text.csv"
      ],
      "execution_count": 197,
      "outputs": [
        {
          "output_type": "stream",
          "text": [
            "--2020-09-24 02:07:39--  https://storage.googleapis.com/laurencemoroney-blog.appspot.com/bbc-text.csv\n",
            "Resolving storage.googleapis.com (storage.googleapis.com)... 172.217.203.128, 74.125.134.128, 172.217.204.128, ...\n",
            "Connecting to storage.googleapis.com (storage.googleapis.com)|172.217.203.128|:443... connected.\n",
            "HTTP request sent, awaiting response... 200 OK\n",
            "Length: 5057493 (4.8M) [application/octet-stream]\n",
            "Saving to: ‘/tmp/bbc-text.csv’\n",
            "\n",
            "\r/tmp/bbc-text.csv     0%[                    ]       0  --.-KB/s               \r/tmp/bbc-text.csv   100%[===================>]   4.82M  --.-KB/s    in 0.04s   \n",
            "\n",
            "2020-09-24 02:07:39 (112 MB/s) - ‘/tmp/bbc-text.csv’ saved [5057493/5057493]\n",
            "\n"
          ],
          "name": "stdout"
        }
      ]
    },
    {
      "cell_type": "code",
      "metadata": {
        "id": "_23me_aeOxxI",
        "colab_type": "code",
        "colab": {}
      },
      "source": [
        "vocab_size = 10000\n",
        "embedding_dim = 16\n",
        "max_length = 128\n",
        "trunc_type = 'post'\n",
        "padding_type = 'pre'\n",
        "oov_tok = \"<OOV>\"\n",
        "training_portion = .8"
      ],
      "execution_count": 198,
      "outputs": []
    },
    {
      "cell_type": "code",
      "metadata": {
        "id": "ZZBabA3qPTIS",
        "colab_type": "code",
        "colab": {}
      },
      "source": [
        "sentences = []\n",
        "labels = []\n",
        "with open('/tmp/bbc-text.csv', 'r') as f: \n",
        "  reader = csv.DictReader(f)\n",
        "  for item in reader:\n",
        "    labels.append(item['category'])\n",
        "    sentences.append(item['text'])\n"
      ],
      "execution_count": 199,
      "outputs": []
    },
    {
      "cell_type": "code",
      "metadata": {
        "id": "eawuad9yPvCm",
        "colab_type": "code",
        "colab": {
          "base_uri": "https://localhost:8080/",
          "height": 85
        },
        "outputId": "e19ee744-4ac4-4125-ea44-a08738d34663"
      },
      "source": [
        "# Very careful here. We didn't initialize the 'ts' object with numWords=vocab_size. \n",
        "# So, number of entries in 'word_index' could exceed 'vocab_size' in number.\n",
        "# The correct value should be used in Embedding layer.\n",
        "ts=Tokenizer()  \n",
        "tl=Tokenizer()\n",
        "ts.fit_on_texts(sentences)\n",
        "tl.fit_on_texts(labels)\n",
        "wis=ts.word_index\n",
        "wil=tl.word_index\n",
        "tokens_s = ts.texts_to_sequences(sentences)\n",
        "tokens_l = tl.texts_to_sequences(labels)\n",
        "tokens_s = pad_sequences(tokens_s,maxlen=max_length,padding=padding_type, truncating=trunc_type)\n",
        "num_train_samples = int(len(tokens_s)*training_portion)\n",
        "train_s = tokens_s[:num_train_samples]\n",
        "valid_s = tokens_s[num_train_samples:]\n",
        "train_l = np.array(tokens_l[:num_train_samples])\n",
        "valid_l = np.array(tokens_l[num_train_samples:])\n",
        "num_label_classes = len(wil) + 1\n",
        "train_l = keras.utils.to_categorical(train_l,num_label_classes)\n",
        "valid_l = keras.utils.to_categorical(valid_l,num_label_classes)\n",
        "print(train_s.shape)\n",
        "print(valid_s.shape)\n",
        "print(train_l.shape)\n",
        "print(valid_l.shape)"
      ],
      "execution_count": 200,
      "outputs": [
        {
          "output_type": "stream",
          "text": [
            "(1780, 128)\n",
            "(445, 128)\n",
            "(1780, 6)\n",
            "(445, 6)\n"
          ],
          "name": "stdout"
        }
      ]
    },
    {
      "cell_type": "code",
      "metadata": {
        "id": "rZ7Xk5OyZYxf",
        "colab_type": "code",
        "colab": {
          "base_uri": "https://localhost:8080/",
          "height": 340
        },
        "outputId": "d66b50d0-d10b-4e36-edfa-b05c9c3c0384"
      },
      "source": [
        "num_diff_words = len(wis) + 1\n",
        "print(num_diff_words)\n",
        "\n",
        "model = Sequential()\n",
        "model.add(keras.layers.Embedding(input_dim=num_diff_words, output_dim=embedding_dim, input_length=max_length))\n",
        "model.add(keras.layers.GlobalAveragePooling1D())\n",
        "model.add(keras.layers.Flatten())\n",
        "model.add(keras.layers.Dense(24,activation='relu'))\n",
        "model.add(keras.layers.Dense(num_label_classes,activation='softmax'))\n",
        "model.summary()"
      ],
      "execution_count": 201,
      "outputs": [
        {
          "output_type": "stream",
          "text": [
            "29727\n",
            "Model: \"sequential_23\"\n",
            "_________________________________________________________________\n",
            "Layer (type)                 Output Shape              Param #   \n",
            "=================================================================\n",
            "embedding_21 (Embedding)     (None, 128, 16)           475632    \n",
            "_________________________________________________________________\n",
            "global_average_pooling1d_21  (None, 16)                0         \n",
            "_________________________________________________________________\n",
            "flatten_4 (Flatten)          (None, 16)                0         \n",
            "_________________________________________________________________\n",
            "dense_42 (Dense)             (None, 24)                408       \n",
            "_________________________________________________________________\n",
            "dense_43 (Dense)             (None, 6)                 150       \n",
            "=================================================================\n",
            "Total params: 476,190\n",
            "Trainable params: 476,190\n",
            "Non-trainable params: 0\n",
            "_________________________________________________________________\n"
          ],
          "name": "stdout"
        }
      ]
    },
    {
      "cell_type": "code",
      "metadata": {
        "id": "Sp6byYmkk1mE",
        "colab_type": "code",
        "colab": {
          "base_uri": "https://localhost:8080/",
          "height": 1000
        },
        "outputId": "26f74a6f-610e-40f8-9ed0-d89fe27bdcc8"
      },
      "source": [
        "print(train_s.shape)\n",
        "print(train_l.shape)\n",
        "print(valid_s.shape)\n",
        "print(valid_l.shape)\n",
        "model.compile(loss='categorical_crossentropy',optimizer='adam',metrics=['accuracy'])\n",
        "history = model.fit(train_s, train_l,epochs= 50, validation_data = (valid_s,valid_l))"
      ],
      "execution_count": 202,
      "outputs": [
        {
          "output_type": "stream",
          "text": [
            "(1780, 128)\n",
            "(1780, 6)\n",
            "(445, 128)\n",
            "(445, 6)\n",
            "Epoch 1/50\n",
            "56/56 [==============================] - 1s 11ms/step - loss: 1.7588 - accuracy: 0.2376 - val_loss: 1.7131 - val_accuracy: 0.3281\n",
            "Epoch 2/50\n",
            "56/56 [==============================] - 0s 9ms/step - loss: 1.6487 - accuracy: 0.4444 - val_loss: 1.5724 - val_accuracy: 0.4562\n",
            "Epoch 3/50\n",
            "56/56 [==============================] - 0s 8ms/step - loss: 1.4583 - accuracy: 0.4556 - val_loss: 1.3615 - val_accuracy: 0.4652\n",
            "Epoch 4/50\n",
            "56/56 [==============================] - 0s 8ms/step - loss: 1.2074 - accuracy: 0.5006 - val_loss: 1.1301 - val_accuracy: 0.5438\n",
            "Epoch 5/50\n",
            "56/56 [==============================] - 0s 8ms/step - loss: 0.9678 - accuracy: 0.6287 - val_loss: 0.9394 - val_accuracy: 0.6921\n",
            "Epoch 6/50\n",
            "56/56 [==============================] - 0s 9ms/step - loss: 0.7619 - accuracy: 0.8124 - val_loss: 0.7708 - val_accuracy: 0.8517\n",
            "Epoch 7/50\n",
            "56/56 [==============================] - 0s 8ms/step - loss: 0.5738 - accuracy: 0.9528 - val_loss: 0.6208 - val_accuracy: 0.9079\n",
            "Epoch 8/50\n",
            "56/56 [==============================] - 0s 8ms/step - loss: 0.4072 - accuracy: 0.9787 - val_loss: 0.4957 - val_accuracy: 0.9303\n",
            "Epoch 9/50\n",
            "56/56 [==============================] - 0s 8ms/step - loss: 0.2834 - accuracy: 0.9871 - val_loss: 0.4054 - val_accuracy: 0.9416\n",
            "Epoch 10/50\n",
            "56/56 [==============================] - 0s 9ms/step - loss: 0.1992 - accuracy: 0.9916 - val_loss: 0.3466 - val_accuracy: 0.9393\n",
            "Epoch 11/50\n",
            "56/56 [==============================] - 0s 8ms/step - loss: 0.1441 - accuracy: 0.9955 - val_loss: 0.3055 - val_accuracy: 0.9438\n",
            "Epoch 12/50\n",
            "56/56 [==============================] - 0s 8ms/step - loss: 0.1077 - accuracy: 0.9983 - val_loss: 0.2767 - val_accuracy: 0.9438\n",
            "Epoch 13/50\n",
            "56/56 [==============================] - 0s 9ms/step - loss: 0.0822 - accuracy: 0.9989 - val_loss: 0.2557 - val_accuracy: 0.9416\n",
            "Epoch 14/50\n",
            "56/56 [==============================] - 0s 8ms/step - loss: 0.0643 - accuracy: 0.9989 - val_loss: 0.2411 - val_accuracy: 0.9438\n",
            "Epoch 15/50\n",
            "56/56 [==============================] - 0s 8ms/step - loss: 0.0512 - accuracy: 0.9994 - val_loss: 0.2292 - val_accuracy: 0.9438\n",
            "Epoch 16/50\n",
            "56/56 [==============================] - 0s 8ms/step - loss: 0.0415 - accuracy: 1.0000 - val_loss: 0.2198 - val_accuracy: 0.9438\n",
            "Epoch 17/50\n",
            "56/56 [==============================] - 0s 9ms/step - loss: 0.0341 - accuracy: 1.0000 - val_loss: 0.2133 - val_accuracy: 0.9461\n",
            "Epoch 18/50\n",
            "56/56 [==============================] - 0s 8ms/step - loss: 0.0284 - accuracy: 1.0000 - val_loss: 0.2076 - val_accuracy: 0.9416\n",
            "Epoch 19/50\n",
            "56/56 [==============================] - 0s 9ms/step - loss: 0.0240 - accuracy: 1.0000 - val_loss: 0.2025 - val_accuracy: 0.9461\n",
            "Epoch 20/50\n",
            "56/56 [==============================] - 0s 8ms/step - loss: 0.0205 - accuracy: 1.0000 - val_loss: 0.1987 - val_accuracy: 0.9438\n",
            "Epoch 21/50\n",
            "56/56 [==============================] - 0s 8ms/step - loss: 0.0176 - accuracy: 1.0000 - val_loss: 0.1956 - val_accuracy: 0.9461\n",
            "Epoch 22/50\n",
            "56/56 [==============================] - 0s 9ms/step - loss: 0.0153 - accuracy: 1.0000 - val_loss: 0.1927 - val_accuracy: 0.9461\n",
            "Epoch 23/50\n",
            "56/56 [==============================] - 1s 9ms/step - loss: 0.0134 - accuracy: 1.0000 - val_loss: 0.1907 - val_accuracy: 0.9461\n",
            "Epoch 24/50\n",
            "56/56 [==============================] - 0s 9ms/step - loss: 0.0118 - accuracy: 1.0000 - val_loss: 0.1885 - val_accuracy: 0.9461\n",
            "Epoch 25/50\n",
            "56/56 [==============================] - 0s 8ms/step - loss: 0.0105 - accuracy: 1.0000 - val_loss: 0.1869 - val_accuracy: 0.9461\n",
            "Epoch 26/50\n",
            "56/56 [==============================] - 0s 8ms/step - loss: 0.0093 - accuracy: 1.0000 - val_loss: 0.1856 - val_accuracy: 0.9461\n",
            "Epoch 27/50\n",
            "56/56 [==============================] - 0s 8ms/step - loss: 0.0084 - accuracy: 1.0000 - val_loss: 0.1846 - val_accuracy: 0.9461\n",
            "Epoch 28/50\n",
            "56/56 [==============================] - 0s 8ms/step - loss: 0.0075 - accuracy: 1.0000 - val_loss: 0.1834 - val_accuracy: 0.9483\n",
            "Epoch 29/50\n",
            "56/56 [==============================] - 0s 8ms/step - loss: 0.0068 - accuracy: 1.0000 - val_loss: 0.1827 - val_accuracy: 0.9483\n",
            "Epoch 30/50\n",
            "56/56 [==============================] - 0s 9ms/step - loss: 0.0062 - accuracy: 1.0000 - val_loss: 0.1817 - val_accuracy: 0.9483\n",
            "Epoch 31/50\n",
            "56/56 [==============================] - 0s 8ms/step - loss: 0.0056 - accuracy: 1.0000 - val_loss: 0.1811 - val_accuracy: 0.9483\n",
            "Epoch 32/50\n",
            "56/56 [==============================] - 0s 9ms/step - loss: 0.0052 - accuracy: 1.0000 - val_loss: 0.1806 - val_accuracy: 0.9461\n",
            "Epoch 33/50\n",
            "56/56 [==============================] - 0s 8ms/step - loss: 0.0047 - accuracy: 1.0000 - val_loss: 0.1801 - val_accuracy: 0.9461\n",
            "Epoch 34/50\n",
            "56/56 [==============================] - 0s 9ms/step - loss: 0.0043 - accuracy: 1.0000 - val_loss: 0.1795 - val_accuracy: 0.9461\n",
            "Epoch 35/50\n",
            "56/56 [==============================] - 0s 8ms/step - loss: 0.0040 - accuracy: 1.0000 - val_loss: 0.1792 - val_accuracy: 0.9461\n",
            "Epoch 36/50\n",
            "56/56 [==============================] - 0s 9ms/step - loss: 0.0037 - accuracy: 1.0000 - val_loss: 0.1789 - val_accuracy: 0.9461\n",
            "Epoch 37/50\n",
            "56/56 [==============================] - 1s 9ms/step - loss: 0.0034 - accuracy: 1.0000 - val_loss: 0.1787 - val_accuracy: 0.9461\n",
            "Epoch 38/50\n",
            "56/56 [==============================] - 0s 8ms/step - loss: 0.0032 - accuracy: 1.0000 - val_loss: 0.1785 - val_accuracy: 0.9461\n",
            "Epoch 39/50\n",
            "56/56 [==============================] - 0s 9ms/step - loss: 0.0030 - accuracy: 1.0000 - val_loss: 0.1781 - val_accuracy: 0.9461\n",
            "Epoch 40/50\n",
            "56/56 [==============================] - 0s 8ms/step - loss: 0.0028 - accuracy: 1.0000 - val_loss: 0.1779 - val_accuracy: 0.9461\n",
            "Epoch 41/50\n",
            "56/56 [==============================] - 0s 8ms/step - loss: 0.0026 - accuracy: 1.0000 - val_loss: 0.1780 - val_accuracy: 0.9461\n",
            "Epoch 42/50\n",
            "56/56 [==============================] - 0s 9ms/step - loss: 0.0024 - accuracy: 1.0000 - val_loss: 0.1778 - val_accuracy: 0.9461\n",
            "Epoch 43/50\n",
            "56/56 [==============================] - 0s 8ms/step - loss: 0.0022 - accuracy: 1.0000 - val_loss: 0.1779 - val_accuracy: 0.9461\n",
            "Epoch 44/50\n",
            "56/56 [==============================] - 0s 8ms/step - loss: 0.0021 - accuracy: 1.0000 - val_loss: 0.1778 - val_accuracy: 0.9461\n",
            "Epoch 45/50\n",
            "56/56 [==============================] - 0s 8ms/step - loss: 0.0020 - accuracy: 1.0000 - val_loss: 0.1776 - val_accuracy: 0.9461\n",
            "Epoch 46/50\n",
            "56/56 [==============================] - 0s 8ms/step - loss: 0.0019 - accuracy: 1.0000 - val_loss: 0.1777 - val_accuracy: 0.9438\n",
            "Epoch 47/50\n",
            "56/56 [==============================] - 0s 8ms/step - loss: 0.0017 - accuracy: 1.0000 - val_loss: 0.1777 - val_accuracy: 0.9438\n",
            "Epoch 48/50\n",
            "56/56 [==============================] - 0s 8ms/step - loss: 0.0016 - accuracy: 1.0000 - val_loss: 0.1777 - val_accuracy: 0.9438\n",
            "Epoch 49/50\n",
            "56/56 [==============================] - 0s 9ms/step - loss: 0.0016 - accuracy: 1.0000 - val_loss: 0.1777 - val_accuracy: 0.9438\n",
            "Epoch 50/50\n",
            "56/56 [==============================] - 0s 9ms/step - loss: 0.0015 - accuracy: 1.0000 - val_loss: 0.1778 - val_accuracy: 0.9438\n"
          ],
          "name": "stdout"
        }
      ]
    },
    {
      "cell_type": "code",
      "metadata": {
        "id": "legQRfqZCVZM",
        "colab_type": "code",
        "colab": {
          "base_uri": "https://localhost:8080/",
          "height": 541
        },
        "outputId": "7d9019ed-faf4-4fa0-c50c-d88845fef7a6"
      },
      "source": [
        "def plot_graph(history,string):\n",
        "  plt.plot(np.arange(len(history.history[string])),history.history[string])\n",
        "  plt.plot(np.arange(len(history.history[string])),history.history['val_'+string])\n",
        "  plt.xlabel('epochs')\n",
        "  plt.ylabel(string)\n",
        "  plt.legend([string, 'val_'+string])\n",
        "  plt.show()\n",
        "\n",
        "plot_graph(history,'accuracy')\n",
        "plot_graph(history,'loss')\n"
      ],
      "execution_count": 203,
      "outputs": [
        {
          "output_type": "display_data",
          "data": {
            "image/png": "[encoded data removed]",
            "text/plain": [
              "<Figure size 432x288 with 1 Axes>"
            ]
          },
          "metadata": {
            "tags": [],
            "needs_background": "light"
          }
        },
        {
          "output_type": "display_data",
          "data": {
            "image/png": "[encoded data removed]",
            "text/plain": [
              "<Figure size 432x288 with 1 Axes>"
            ]
          },
          "metadata": {
            "tags": [],
            "needs_background": "light"
          }
        }
      ]
    },
    {
      "cell_type": "code",
      "metadata": {
        "id": "cmPjYxrzDBrg",
        "colab_type": "code",
        "colab": {
          "base_uri": "https://localhost:8080/",
          "height": 34
        },
        "outputId": "149e8792-da94-4d2f-f126-1be7d92784e6"
      },
      "source": [
        "#Write code to store away the Embeddings\n",
        "import io\n",
        "import copy\n",
        "weights=model.layers[0].get_weights()\n",
        "print(weights[0].shape)\n",
        "xx = copy.deepcopy(weights[0])\n",
        "embeddings = io.open('embeddings_week2_NLP.tsv','w',encoding = 'utf-8') # We created an object\n",
        "words = io.open('words_week2_NLP.tsv','w', encoding ='utf-8')           # We created an object\n",
        "for k,v in wis.items():\n",
        "  embeddings.write('\\t'.join([str(item) for item in xx[v]]) +'\\n')\n",
        "  words.write(k)\n",
        "embeddings.close()\n",
        "words.close()\n",
        "\n"
      ],
      "execution_count": 213,
      "outputs": [
        {
          "output_type": "stream",
          "text": [
            "(29727, 16)\n"
          ],
          "name": "stdout"
        }
      ]
    },
    {
      "cell_type": "code",
      "metadata": {
        "id": "fQT2ZuZO4jwy",
        "colab_type": "code",
        "colab": {
          "base_uri": "https://localhost:8080/",
          "height": 170
        },
        "outputId": "9c2c6b28-0f4a-43cd-827b-077b945c77cd"
      },
      "source": [
        "for k,v in wis.items():\n",
        "  if v<10:\n",
        "    print((k,v))\n"
      ],
      "execution_count": 214,
      "outputs": [
        {
          "output_type": "stream",
          "text": [
            "('the', 1)\n",
            "('to', 2)\n",
            "('of', 3)\n",
            "('and', 4)\n",
            "('a', 5)\n",
            "('in', 6)\n",
            "('s', 7)\n",
            "('for', 8)\n",
            "('is', 9)\n"
          ],
          "name": "stdout"
        }
      ]
    },
    {
      "cell_type": "code",
      "metadata": {
        "id": "pn0ve2j864KS",
        "colab_type": "code",
        "colab": {
          "base_uri": "https://localhost:8080/",
          "height": 17
        },
        "outputId": "f56f9b34-0723-4422-a73d-6bc7f0bbeee3"
      },
      "source": [
        "try:\n",
        "  from google.colab import files\n",
        "except ImportError:\n",
        "  print(\"\\nCould not import the file\\n\")\n",
        "files.download('embeddings_week2_NLP.tsv')\n",
        "files.download('words_week2_NLP.tsv')\n"
      ],
      "execution_count": 215,
      "outputs": [
        {
          "output_type": "display_data",
          "data": {
            "application/javascript": [
              "\n",
              "    async function download(id, filename, size) {\n",
              "      if (!google.colab.kernel.accessAllowed) {\n",
              "        return;\n",
              "      }\n",
              "      const div = document.createElement('div');\n",
              "      const label = document.createElement('label');\n",
              "      label.textContent = `Downloading \"${filename}\": `;\n",
              "      div.appendChild(label);\n",
              "      const progress = document.createElement('progress');\n",
              "      progress.max = size;\n",
              "      div.appendChild(progress);\n",
              "      document.body.appendChild(div);\n",
              "\n",
              "      const buffers = [];\n",
              "      let downloaded = 0;\n",
              "\n",
              "      const channel = await google.colab.kernel.comms.open(id);\n",
              "      // Send a message to notify the kernel that we're ready.\n",
              "      channel.send({})\n",
              "\n",
              "      for await (const message of channel.messages) {\n",
              "        // Send a message to notify the kernel that we're ready.\n",
              "        channel.send({})\n",
              "        if (message.buffers) {\n",
              "          for (const buffer of message.buffers) {\n",
              "            buffers.push(buffer);\n",
              "            downloaded += buffer.byteLength;\n",
              "            progress.value = downloaded;\n",
              "          }\n",
              "        }\n",
              "      }\n",
              "      const blob = new Blob(buffers, {type: 'application/binary'});\n",
              "      const a = document.createElement('a');\n",
              "      a.href = window.URL.createObjectURL(blob);\n",
              "      a.download = filename;\n",
              "      div.appendChild(a);\n",
              "      a.click();\n",
              "      div.remove();\n",
              "    }\n",
              "  "
            ],
            "text/plain": [
              "<IPython.core.display.Javascript object>"
            ]
          },
          "metadata": {
            "tags": []
          }
        },
        {
          "output_type": "display_data",
          "data": {
            "application/javascript": [
              "download(\"download_19816bb3-bf25-4361-8371-a7c228b03375\", \"embeddings_week2_NLP.tsv\", 5711564)"
            ],
            "text/plain": [
              "<IPython.core.display.Javascript object>"
            ]
          },
          "metadata": {
            "tags": []
          }
        },
        {
          "output_type": "display_data",
          "data": {
            "application/javascript": [
              "\n",
              "    async function download(id, filename, size) {\n",
              "      if (!google.colab.kernel.accessAllowed) {\n",
              "        return;\n",
              "      }\n",
              "      const div = document.createElement('div');\n",
              "      const label = document.createElement('label');\n",
              "      label.textContent = `Downloading \"${filename}\": `;\n",
              "      div.appendChild(label);\n",
              "      const progress = document.createElement('progress');\n",
              "      progress.max = size;\n",
              "      div.appendChild(progress);\n",
              "      document.body.appendChild(div);\n",
              "\n",
              "      const buffers = [];\n",
              "      let downloaded = 0;\n",
              "\n",
              "      const channel = await google.colab.kernel.comms.open(id);\n",
              "      // Send a message to notify the kernel that we're ready.\n",
              "      channel.send({})\n",
              "\n",
              "      for await (const message of channel.messages) {\n",
              "        // Send a message to notify the kernel that we're ready.\n",
              "        channel.send({})\n",
              "        if (message.buffers) {\n",
              "          for (const buffer of message.buffers) {\n",
              "            buffers.push(buffer);\n",
              "            downloaded += buffer.byteLength;\n",
              "            progress.value = downloaded;\n",
              "          }\n",
              "        }\n",
              "      }\n",
              "      const blob = new Blob(buffers, {type: 'application/binary'});\n",
              "      const a = document.createElement('a');\n",
              "      a.href = window.URL.createObjectURL(blob);\n",
              "      a.download = filename;\n",
              "      div.appendChild(a);\n",
              "      a.click();\n",
              "      div.remove();\n",
              "    }\n",
              "  "
            ],
            "text/plain": [
              "<IPython.core.display.Javascript object>"
            ]
          },
          "metadata": {
            "tags": []
          }
        },
        {
          "output_type": "display_data",
          "data": {
            "application/javascript": [
              "download(\"download_a6d72d19-7d2e-4b27-b759-f956d35fd0d7\", \"words_week2_NLP.tsv\", 211352)"
            ],
            "text/plain": [
              "<IPython.core.display.Javascript object>"
            ]
          },
          "metadata": {
            "tags": []
          }
        }
      ]
    }
  ]
}