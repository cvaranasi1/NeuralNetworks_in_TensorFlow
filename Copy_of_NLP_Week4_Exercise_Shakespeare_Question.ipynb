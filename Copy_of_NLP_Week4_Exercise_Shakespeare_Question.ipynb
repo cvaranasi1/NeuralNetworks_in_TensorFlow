{
  "nbformat": 4,
  "nbformat_minor": 0,
  "metadata": {
    "colab": {
      "name": "Copy of NLP-Week4-Exercise-Shakespeare-Question.ipynb",
      "provenance": [],
      "include_colab_link": true
    },
    "kernelspec": {
      "name": "python3",
      "display_name": "Python 3"
    },
    "accelerator": "GPU"
  },
  "cells": [
    {
      "cell_type": "markdown",
      "metadata": {
        "id": "view-in-github",
        "colab_type": "text"
      },
      "source": [
        "<a href=\"https://colab.research.google.com/github/cvaranasi1/NeuralNetworks_in_TensorFlow/blob/master/Copy_of_NLP_Week4_Exercise_Shakespeare_Question.ipynb\" target=\"_parent\"><img src=\"https://colab.research.google.com/assets/colab-badge.svg\" alt=\"Open In Colab\"/></a>"
      ]
    },
    {
      "cell_type": "code",
      "metadata": {
        "id": "BOwsuGQQY9OL",
        "colab_type": "code",
        "outputId": "d9b1e386-9f1f-44e1-c96b-f978361309e4",
        "colab": {
          "base_uri": "https://localhost:8080/",
          "height": 34
        }
      },
      "source": [
        "%tensorflow_version 2.x\n",
        "from tensorflow.keras.preprocessing.sequence import pad_sequences\n",
        "from tensorflow.keras.layers import Embedding, LSTM, Dense, Dropout, Bidirectional\n",
        "from tensorflow.keras.preprocessing.text import Tokenizer\n",
        "from tensorflow.keras.models import Sequential\n",
        "from tensorflow.keras.optimizers import Adam\n",
        "### YOUR CODE HERE\n",
        "from tensorflow.keras.regularizers import Regularizer # Figure out how to import regularizers\n",
        "###\n",
        "import tensorflow.keras.utils as ku \n",
        "import numpy as np "
      ],
      "execution_count": 0,
      "outputs": [
        {
          "output_type": "stream",
          "text": [
            "TensorFlow 2.x selected.\n"
          ],
          "name": "stdout"
        }
      ]
    },
    {
      "cell_type": "code",
      "metadata": {
        "colab_type": "code",
        "id": "PRnDnCW-Z7qv",
        "outputId": "a7781c6b-914f-4910-9347-8ad165032b8d",
        "colab": {
          "base_uri": "https://localhost:8080/",
          "height": 204
        }
      },
      "source": [
        "tokenizer = Tokenizer()\n",
        "!wget --no-check-certificate \\\n",
        "    https://storage.googleapis.com/laurencemoroney-blog.appspot.com/sonnets.txt \\\n",
        "    -O /tmp/sonnets.txt\n",
        "data = open('/tmp/sonnets.txt').read()\n",
        "\n",
        "corpus = data.lower().split(\"\\n\")\n",
        "\n",
        "\n",
        "tokenizer.fit_on_texts(corpus)\n",
        "total_words = len(tokenizer.word_index) + 1\n",
        "\n",
        "# create input sequences using list of tokens\n",
        "input_sequences = []\n",
        "for line in corpus:\n",
        "\ttoken_list = tokenizer.texts_to_sequences([line])[0]\n",
        "\tfor i in range(1, len(token_list)):\n",
        "\t\tn_gram_sequence = token_list[:i+1]\n",
        "\t\tinput_sequences.append(n_gram_sequence)\n",
        "\n",
        "\n",
        "# pad sequences \n",
        "max_sequence_len = max([len(x) for x in input_sequences])\n",
        "input_sequences = np.array(pad_sequences(input_sequences, maxlen=max_sequence_len, padding='pre'))\n",
        "\n",
        "# create predictors and label\n",
        "predictors, label = input_sequences[:,:-1],input_sequences[:,-1]\n",
        "\n",
        "label = ku.to_categorical(label, num_classes=total_words)"
      ],
      "execution_count": 0,
      "outputs": [
        {
          "output_type": "stream",
          "text": [
            "--2020-02-07 23:20:39--  https://storage.googleapis.com/laurencemoroney-blog.appspot.com/sonnets.txt\n",
            "Resolving storage.googleapis.com (storage.googleapis.com)... 74.125.199.128, 2607:f8b0:400e:c07::80\n",
            "Connecting to storage.googleapis.com (storage.googleapis.com)|74.125.199.128|:443... connected.\n",
            "HTTP request sent, awaiting response... 200 OK\n",
            "Length: 93578 (91K) [text/plain]\n",
            "Saving to: ‘/tmp/sonnets.txt’\n",
            "\n",
            "\r/tmp/sonnets.txt      0%[                    ]       0  --.-KB/s               \r/tmp/sonnets.txt    100%[===================>]  91.38K  --.-KB/s    in 0.001s  \n",
            "\n",
            "2020-02-07 23:20:39 (122 MB/s) - ‘/tmp/sonnets.txt’ saved [93578/93578]\n",
            "\n"
          ],
          "name": "stdout"
        }
      ]
    },
    {
      "cell_type": "code",
      "metadata": {
        "id": "w9vH8Y59ajYL",
        "colab_type": "code",
        "outputId": "11b4d422-e995-4beb-c5f9-4f9c6c05bf93",
        "colab": {
          "base_uri": "https://localhost:8080/",
          "height": 374
        }
      },
      "source": [
        "model = Sequential()\n",
        "model.add(Embedding(total_words, 64, input_length=max_sequence_len-1)) # Your Embedding Layer\n",
        "model.add(Bidirectional(LSTM(64, return_sequences=True))) # An LSTM Layer\n",
        "model.add(Dropout(0.2)) # A dropout layer\n",
        "model.add(Bidirectional(LSTM(64))) # Another LSTM Layer\n",
        "model.add(Dense(64,activation='relu',bias_regularizer='Regularizer')) # A Dense Layer including regularizers)\n",
        "model.add(Dense(total_words,activation='softmax')) # A Dense Layer\n",
        "# Pick an optimizer\n",
        "model.compile(loss='categorical_crossentropy', optimizer='adam', metrics=['accuracy'])# Pick a loss function and an optimizer)\n",
        "print(model.summary())\n"
      ],
      "execution_count": 0,
      "outputs": [
        {
          "output_type": "stream",
          "text": [
            "Model: \"sequential_3\"\n",
            "_________________________________________________________________\n",
            "Layer (type)                 Output Shape              Param #   \n",
            "=================================================================\n",
            "embedding_3 (Embedding)      (None, 10, 64)            205504    \n",
            "_________________________________________________________________\n",
            "bidirectional_6 (Bidirection (None, 10, 128)           66048     \n",
            "_________________________________________________________________\n",
            "dropout_3 (Dropout)          (None, 10, 128)           0         \n",
            "_________________________________________________________________\n",
            "bidirectional_7 (Bidirection (None, 128)               98816     \n",
            "_________________________________________________________________\n",
            "dense_6 (Dense)              (None, 64)                8256      \n",
            "_________________________________________________________________\n",
            "dense_7 (Dense)              (None, 3211)              208715    \n",
            "=================================================================\n",
            "Total params: 587,339\n",
            "Trainable params: 587,339\n",
            "Non-trainable params: 0\n",
            "_________________________________________________________________\n",
            "None\n"
          ],
          "name": "stdout"
        }
      ]
    },
    {
      "cell_type": "code",
      "metadata": {
        "id": "AIg2f1HBxqof",
        "colab_type": "code",
        "outputId": "ba008fec-6a08-4757-bbdf-6eacfba5e891",
        "colab": {
          "base_uri": "https://localhost:8080/",
          "height": 1000
        }
      },
      "source": [
        " history = model.fit(predictors, label, epochs=100, verbose=1)"
      ],
      "execution_count": 0,
      "outputs": [
        {
          "output_type": "stream",
          "text": [
            "Train on 15462 samples\n",
            "Epoch 1/100\n",
            "15462/15462 [==============================] - 11s 706us/sample - loss: 6.8970 - accuracy: 0.0224\n",
            "Epoch 2/100\n",
            "15462/15462 [==============================] - 7s 467us/sample - loss: 6.4953 - accuracy: 0.0261\n",
            "Epoch 3/100\n",
            "15462/15462 [==============================] - 7s 459us/sample - loss: 6.3585 - accuracy: 0.0329\n",
            "Epoch 4/100\n",
            "15462/15462 [==============================] - 7s 460us/sample - loss: 6.2492 - accuracy: 0.0367\n",
            "Epoch 5/100\n",
            "15462/15462 [==============================] - 7s 460us/sample - loss: 6.1515 - accuracy: 0.0374\n",
            "Epoch 6/100\n",
            "15462/15462 [==============================] - 7s 466us/sample - loss: 6.0370 - accuracy: 0.0407\n",
            "Epoch 7/100\n",
            "15462/15462 [==============================] - 7s 463us/sample - loss: 5.9264 - accuracy: 0.0449\n",
            "Epoch 8/100\n",
            "15462/15462 [==============================] - 7s 457us/sample - loss: 5.8299 - accuracy: 0.0464\n",
            "Epoch 9/100\n",
            "15462/15462 [==============================] - 7s 470us/sample - loss: 5.7352 - accuracy: 0.0496\n",
            "Epoch 10/100\n",
            "15462/15462 [==============================] - 7s 482us/sample - loss: 5.6440 - accuracy: 0.0523\n",
            "Epoch 11/100\n",
            "15462/15462 [==============================] - 7s 461us/sample - loss: 5.5524 - accuracy: 0.0559\n",
            "Epoch 12/100\n",
            "15462/15462 [==============================] - 7s 459us/sample - loss: 5.4639 - accuracy: 0.0557\n",
            "Epoch 13/100\n",
            "15462/15462 [==============================] - 7s 457us/sample - loss: 5.3704 - accuracy: 0.0613\n",
            "Epoch 14/100\n",
            "15462/15462 [==============================] - 7s 461us/sample - loss: 5.2764 - accuracy: 0.0607\n",
            "Epoch 15/100\n",
            "15462/15462 [==============================] - 7s 468us/sample - loss: 5.1812 - accuracy: 0.0659\n",
            "Epoch 16/100\n",
            "15462/15462 [==============================] - 7s 454us/sample - loss: 5.0879 - accuracy: 0.0690\n",
            "Epoch 17/100\n",
            "15462/15462 [==============================] - 7s 457us/sample - loss: 4.9908 - accuracy: 0.0722\n",
            "Epoch 18/100\n",
            "15462/15462 [==============================] - 7s 463us/sample - loss: 4.8983 - accuracy: 0.0772\n",
            "Epoch 19/100\n",
            "15462/15462 [==============================] - 7s 462us/sample - loss: 4.8050 - accuracy: 0.0795\n",
            "Epoch 20/100\n",
            "15462/15462 [==============================] - 7s 455us/sample - loss: 4.7126 - accuracy: 0.0819\n",
            "Epoch 21/100\n",
            "15462/15462 [==============================] - 7s 457us/sample - loss: 4.6209 - accuracy: 0.0866\n",
            "Epoch 22/100\n",
            "15462/15462 [==============================] - 7s 457us/sample - loss: 4.5289 - accuracy: 0.0924\n",
            "Epoch 23/100\n",
            "15462/15462 [==============================] - 7s 465us/sample - loss: 4.4359 - accuracy: 0.1019\n",
            "Epoch 24/100\n",
            "15462/15462 [==============================] - 7s 458us/sample - loss: 4.3446 - accuracy: 0.1044\n",
            "Epoch 25/100\n",
            "15462/15462 [==============================] - 7s 458us/sample - loss: 4.2551 - accuracy: 0.1132\n",
            "Epoch 26/100\n",
            "15462/15462 [==============================] - 7s 456us/sample - loss: 4.1666 - accuracy: 0.1226\n",
            "Epoch 27/100\n",
            "15462/15462 [==============================] - 7s 445us/sample - loss: 4.0852 - accuracy: 0.1306\n",
            "Epoch 28/100\n",
            "15462/15462 [==============================] - 7s 469us/sample - loss: 4.0070 - accuracy: 0.1390\n",
            "Epoch 29/100\n",
            "15462/15462 [==============================] - 7s 456us/sample - loss: 3.9205 - accuracy: 0.1520\n",
            "Epoch 30/100\n",
            "15462/15462 [==============================] - 7s 459us/sample - loss: 3.8599 - accuracy: 0.1626\n",
            "Epoch 31/100\n",
            "15462/15462 [==============================] - 7s 456us/sample - loss: 3.7914 - accuracy: 0.1702\n",
            "Epoch 32/100\n",
            "15462/15462 [==============================] - 7s 469us/sample - loss: 3.7100 - accuracy: 0.1804\n",
            "Epoch 33/100\n",
            "15462/15462 [==============================] - 7s 456us/sample - loss: 3.6546 - accuracy: 0.1942\n",
            "Epoch 34/100\n",
            "15462/15462 [==============================] - 7s 457us/sample - loss: 3.5887 - accuracy: 0.2001\n",
            "Epoch 35/100\n",
            "15462/15462 [==============================] - 7s 459us/sample - loss: 3.5330 - accuracy: 0.2097\n",
            "Epoch 36/100\n",
            "15462/15462 [==============================] - 7s 465us/sample - loss: 3.4693 - accuracy: 0.2189\n",
            "Epoch 37/100\n",
            "15462/15462 [==============================] - 7s 462us/sample - loss: 3.4116 - accuracy: 0.2268\n",
            "Epoch 38/100\n",
            "15462/15462 [==============================] - 7s 458us/sample - loss: 3.3553 - accuracy: 0.2391\n",
            "Epoch 39/100\n",
            "15462/15462 [==============================] - 7s 457us/sample - loss: 3.3016 - accuracy: 0.2485\n",
            "Epoch 40/100\n",
            "15462/15462 [==============================] - 7s 462us/sample - loss: 3.2515 - accuracy: 0.2569\n",
            "Epoch 41/100\n",
            "15462/15462 [==============================] - 7s 464us/sample - loss: 3.2013 - accuracy: 0.2666\n",
            "Epoch 42/100\n",
            "15462/15462 [==============================] - 7s 460us/sample - loss: 3.1464 - accuracy: 0.2773\n",
            "Epoch 43/100\n",
            "15462/15462 [==============================] - 7s 465us/sample - loss: 3.0872 - accuracy: 0.2892\n",
            "Epoch 44/100\n",
            "15462/15462 [==============================] - 7s 459us/sample - loss: 3.0376 - accuracy: 0.2985\n",
            "Epoch 45/100\n",
            "15462/15462 [==============================] - 7s 460us/sample - loss: 2.9988 - accuracy: 0.3091\n",
            "Epoch 46/100\n",
            "15462/15462 [==============================] - 7s 456us/sample - loss: 2.9491 - accuracy: 0.3145\n",
            "Epoch 47/100\n",
            "15462/15462 [==============================] - 7s 458us/sample - loss: 2.9128 - accuracy: 0.3204\n",
            "Epoch 48/100\n",
            "15462/15462 [==============================] - 7s 457us/sample - loss: 2.8692 - accuracy: 0.3305\n",
            "Epoch 49/100\n",
            "15462/15462 [==============================] - 7s 468us/sample - loss: 2.8166 - accuracy: 0.3425\n",
            "Epoch 50/100\n",
            "15462/15462 [==============================] - 7s 459us/sample - loss: 2.7807 - accuracy: 0.3489\n",
            "Epoch 51/100\n",
            "15462/15462 [==============================] - 7s 456us/sample - loss: 2.7339 - accuracy: 0.3580\n",
            "Epoch 52/100\n",
            "15462/15462 [==============================] - 7s 460us/sample - loss: 2.6872 - accuracy: 0.3657\n",
            "Epoch 53/100\n",
            "15462/15462 [==============================] - 7s 475us/sample - loss: 2.6602 - accuracy: 0.3698\n",
            "Epoch 54/100\n",
            "15462/15462 [==============================] - 7s 477us/sample - loss: 2.6190 - accuracy: 0.3811\n",
            "Epoch 55/100\n",
            "15462/15462 [==============================] - 7s 455us/sample - loss: 2.5821 - accuracy: 0.3875\n",
            "Epoch 56/100\n",
            "15462/15462 [==============================] - 7s 455us/sample - loss: 2.5461 - accuracy: 0.3946\n",
            "Epoch 57/100\n",
            "15462/15462 [==============================] - 7s 464us/sample - loss: 2.5028 - accuracy: 0.4082\n",
            "Epoch 58/100\n",
            "15462/15462 [==============================] - 7s 463us/sample - loss: 2.4827 - accuracy: 0.4060\n",
            "Epoch 59/100\n",
            "15462/15462 [==============================] - 7s 458us/sample - loss: 2.4429 - accuracy: 0.4168\n",
            "Epoch 60/100\n",
            "15462/15462 [==============================] - 7s 463us/sample - loss: 2.4125 - accuracy: 0.4255\n",
            "Epoch 61/100\n",
            "15462/15462 [==============================] - 7s 462us/sample - loss: 2.3748 - accuracy: 0.4310\n",
            "Epoch 62/100\n",
            "15462/15462 [==============================] - 7s 462us/sample - loss: 2.3431 - accuracy: 0.4396\n",
            "Epoch 63/100\n",
            "15462/15462 [==============================] - 7s 458us/sample - loss: 2.3032 - accuracy: 0.4489\n",
            "Epoch 64/100\n",
            "15462/15462 [==============================] - 7s 454us/sample - loss: 2.2765 - accuracy: 0.4540\n",
            "Epoch 65/100\n",
            "15462/15462 [==============================] - 7s 460us/sample - loss: 2.2456 - accuracy: 0.4613\n",
            "Epoch 66/100\n",
            "15462/15462 [==============================] - 7s 459us/sample - loss: 2.2367 - accuracy: 0.4616\n",
            "Epoch 67/100\n",
            "15462/15462 [==============================] - 7s 463us/sample - loss: 2.1879 - accuracy: 0.4716\n",
            "Epoch 68/100\n",
            "15462/15462 [==============================] - 7s 448us/sample - loss: 2.1584 - accuracy: 0.4787\n",
            "Epoch 69/100\n",
            "15462/15462 [==============================] - 7s 454us/sample - loss: 2.1336 - accuracy: 0.4855\n",
            "Epoch 70/100\n",
            "15462/15462 [==============================] - 7s 453us/sample - loss: 2.1073 - accuracy: 0.4906\n",
            "Epoch 71/100\n",
            "15462/15462 [==============================] - 7s 457us/sample - loss: 2.0946 - accuracy: 0.4893\n",
            "Epoch 72/100\n",
            "15462/15462 [==============================] - 7s 456us/sample - loss: 2.0676 - accuracy: 0.4992\n",
            "Epoch 73/100\n",
            "15462/15462 [==============================] - 7s 452us/sample - loss: 2.0298 - accuracy: 0.5070\n",
            "Epoch 74/100\n",
            "15462/15462 [==============================] - 7s 459us/sample - loss: 2.0049 - accuracy: 0.5138\n",
            "Epoch 75/100\n",
            "15462/15462 [==============================] - 7s 452us/sample - loss: 1.9808 - accuracy: 0.5166\n",
            "Epoch 76/100\n",
            "15462/15462 [==============================] - 7s 451us/sample - loss: 1.9475 - accuracy: 0.5247\n",
            "Epoch 77/100\n",
            "15462/15462 [==============================] - 7s 458us/sample - loss: 1.9323 - accuracy: 0.5299\n",
            "Epoch 78/100\n",
            "15462/15462 [==============================] - 7s 461us/sample - loss: 1.9131 - accuracy: 0.5333\n",
            "Epoch 79/100\n",
            "15462/15462 [==============================] - 7s 455us/sample - loss: 1.8885 - accuracy: 0.5391\n",
            "Epoch 80/100\n",
            "15462/15462 [==============================] - 7s 453us/sample - loss: 1.8799 - accuracy: 0.5385\n",
            "Epoch 81/100\n",
            "15462/15462 [==============================] - 7s 458us/sample - loss: 1.8525 - accuracy: 0.5442\n",
            "Epoch 82/100\n",
            "15462/15462 [==============================] - 7s 458us/sample - loss: 1.8230 - accuracy: 0.5541\n",
            "Epoch 83/100\n",
            "15462/15462 [==============================] - 7s 457us/sample - loss: 1.7954 - accuracy: 0.5631\n",
            "Epoch 84/100\n",
            "15462/15462 [==============================] - 7s 448us/sample - loss: 1.7881 - accuracy: 0.5632\n",
            "Epoch 85/100\n",
            "15462/15462 [==============================] - 7s 453us/sample - loss: 1.7721 - accuracy: 0.5644\n",
            "Epoch 86/100\n",
            "15462/15462 [==============================] - 7s 464us/sample - loss: 1.7588 - accuracy: 0.5702\n",
            "Epoch 87/100\n",
            "15462/15462 [==============================] - 7s 449us/sample - loss: 1.7320 - accuracy: 0.5751\n",
            "Epoch 88/100\n",
            "15462/15462 [==============================] - 7s 453us/sample - loss: 1.7217 - accuracy: 0.5779\n",
            "Epoch 89/100\n",
            "15462/15462 [==============================] - 7s 451us/sample - loss: 1.6993 - accuracy: 0.5815\n",
            "Epoch 90/100\n",
            "15462/15462 [==============================] - 7s 449us/sample - loss: 1.6995 - accuracy: 0.5814\n",
            "Epoch 91/100\n",
            "15462/15462 [==============================] - 7s 458us/sample - loss: 1.6639 - accuracy: 0.5880\n",
            "Epoch 92/100\n",
            "15462/15462 [==============================] - 7s 450us/sample - loss: 1.6334 - accuracy: 0.5966\n",
            "Epoch 93/100\n",
            "15462/15462 [==============================] - 7s 453us/sample - loss: 1.6296 - accuracy: 0.5948\n",
            "Epoch 94/100\n",
            "15462/15462 [==============================] - 7s 456us/sample - loss: 1.6120 - accuracy: 0.5991\n",
            "Epoch 95/100\n",
            "15462/15462 [==============================] - 7s 456us/sample - loss: 1.5904 - accuracy: 0.6049\n",
            "Epoch 96/100\n",
            "15462/15462 [==============================] - 7s 453us/sample - loss: 1.5987 - accuracy: 0.6046\n",
            "Epoch 97/100\n",
            "15462/15462 [==============================] - 7s 462us/sample - loss: 1.5733 - accuracy: 0.6072\n",
            "Epoch 98/100\n",
            "15462/15462 [==============================] - 7s 464us/sample - loss: 1.5537 - accuracy: 0.6131\n",
            "Epoch 99/100\n",
            "15462/15462 [==============================] - 7s 454us/sample - loss: 1.5251 - accuracy: 0.6229\n",
            "Epoch 100/100\n",
            "15462/15462 [==============================] - 7s 454us/sample - loss: 1.5178 - accuracy: 0.6225\n"
          ],
          "name": "stdout"
        }
      ]
    },
    {
      "cell_type": "code",
      "metadata": {
        "id": "1fXTEO3GJ282",
        "colab_type": "code",
        "outputId": "c3e61cd0-4404-4b32-a92b-ecddf61d5daf",
        "colab": {
          "base_uri": "https://localhost:8080/",
          "height": 545
        }
      },
      "source": [
        "import matplotlib.pyplot as plt\n",
        "acc = history.history['accuracy']\n",
        "loss = history.history['loss']\n",
        "\n",
        "epochs = range(len(acc))\n",
        "\n",
        "plt.plot(epochs, acc, 'b', label='Training accuracy')\n",
        "plt.title('Training accuracy')\n",
        "\n",
        "plt.figure()\n",
        "\n",
        "plt.plot(epochs, loss, 'b', label='Training Loss')\n",
        "plt.title('Training loss')\n",
        "plt.legend()\n",
        "\n",
        "plt.show()"
      ],
      "execution_count": 0,
      "outputs": [
        {
          "output_type": "display_data",
          "data": {
            "image/png": "[encoded data removed]",
            "text/plain": [
              "<Figure size 432x288 with 1 Axes>"
            ]
          },
          "metadata": {
            "tags": []
          }
        },
        {
          "output_type": "display_data",
          "data": {
            "image/png": "[encoded data removed]",
            "text/plain": [
              "<Figure size 432x288 with 1 Axes>"
            ]
          },
          "metadata": {
            "tags": []
          }
        }
      ]
    },
    {
      "cell_type": "code",
      "metadata": {
        "id": "6Vc6PHgxa6Hm",
        "colab_type": "code",
        "outputId": "acbac0a6-8c9e-4642-8900-01c251c8fd00",
        "colab": {
          "base_uri": "https://localhost:8080/",
          "height": 54
        }
      },
      "source": [
        "seed_text = \"Help me Obi Wan Kenobi, you're my only hope\"\n",
        "next_words = 100\n",
        "  \n",
        "for _ in range(next_words):\n",
        "\ttoken_list = tokenizer.texts_to_sequences([seed_text])[0]\n",
        "\ttoken_list = pad_sequences([token_list], maxlen=max_sequence_len-1, padding='pre')\n",
        "\tpredicted = model.predict_classes(token_list, verbose=0)\n",
        "\toutput_word = \"\"\n",
        "\tfor word, index in tokenizer.word_index.items():\n",
        "\t\tif index == predicted:\n",
        "\t\t\toutput_word = word\n",
        "\t\t\tbreak\n",
        "\tseed_text += \" \" + output_word\n",
        "print(seed_text)"
      ],
      "execution_count": 0,
      "outputs": [
        {
          "output_type": "stream",
          "text": [
            "Help me Obi Wan Kenobi, you're my only hope old is ground change it due to it that that so live so know i know i lose a tomb the heart sheds end weep dearer ' ' this ' rolling rolling ' ' livery sharpen'd staineth ' this treasure me date 'will ' ' due thee room thee room due me that that that that thee so say it bring a verse can near head shown ' wrong ' staineth level with my 'will ' ' dearer cross ' walk ask'd ' ' this 'no ' ' due me torn due me her view level with true heart truth\n"
          ],
          "name": "stdout"
        }
      ]
    }
  ]
}